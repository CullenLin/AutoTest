{
 "cells": [
  {
   "cell_type": "code",
   "execution_count": 32,
   "metadata": {},
   "outputs": [],
   "source": [
    "%matplotlib inline\n",
    "import matplotlib.pyplot as plt\n"
   ]
  },
  {
   "cell_type": "code",
   "execution_count": 33,
   "metadata": {},
   "outputs": [],
   "source": [
    "# %load test_utils.py\n",
    "import os\n",
    "import json\n",
    "\n",
    "TEST_METHOD_DEF_FILE = 'testcase_method.json'\n",
    "\n",
    "def readTestMethod():\n",
    "    data = json.load(open(TEST_METHOD_DEF_FILE))\n",
    "    if 'testMethods' not in data:\n",
    "        print('testMethods is not defined in json')\n",
    "        exit(1)\n",
    "    testMethods = data['testMethods']\n",
    "    num_of_test_methods = len(testMethods)\n",
    "    return (testMethods, num_of_test_methods)\n",
    "\n",
    "def getTestMethod(index):\n",
    "    testMethods, num_of_test_methods = readTestMethod()\n",
    "    \n",
    "    return testMethods[index]"
   ]
  },
  {
   "cell_type": "code",
   "execution_count": 34,
   "metadata": {},
   "outputs": [],
   "source": [
    "# %load AITestcase.py\n",
    "# Author: Chong Lin\n",
    "# Date: 2017-11\n",
    "\n",
    "from __future__ import absolute_import\n",
    "from __future__ import division\n",
    "from __future__ import print_function\n",
    "\n",
    "import os\n",
    "\n",
    "import numpy as np\n",
    "import tensorflow as tf\n",
    "\n",
    "tf.logging.set_verbosity(tf.logging.INFO)\n",
    "\n",
    "# Define training samples\n",
    "#TESTCASE_TRAINING = os.path.join(os.path.dirname(__file__), \"training_features.npy\")\n",
    "TESTCASE_TRAINING = \"training_features.npy\"\n",
    "MODEL_PARAMETERS = 'model_parameters.npy'\n",
    "\n",
    "def train_LR_model(learning_rate=0.5):  \n",
    "\n",
    "  # Load training examples\n",
    "  data = np.load(TESTCASE_TRAINING)\n",
    "  features = data.item().get('features')\n",
    "  labels = data.item().get('labels')\n",
    "\n",
    "  num_of_labels = labels.shape[1]\n",
    "  num_of_training_sample = labels.shape[0]\n",
    "  num_of_features = features.shape[1]\n",
    "  print('number of test methods: ' + str(num_of_labels))\n",
    "  print('number of training samples: ' + str(num_of_training_sample))\n",
    "  print('number of features: ' + str(num_of_features))\n",
    "\n",
    "\n",
    "  # Build training dataset\n",
    "  labels_placeholder = tf.placeholder(labels.dtype, labels.shape)\n",
    "  features_placeholder = tf.placeholder(features.dtype, features.shape)\n",
    "  \n",
    "  dataset = tf.data.Dataset.from_tensor_slices((features_placeholder, labels_placeholder))\n",
    "  batched_dataset = dataset.batch(2).repeat()    # repeat to fetch element in dataset\n",
    "  iterator = batched_dataset.make_initializable_iterator()\n",
    "\n",
    "  X = tf.placeholder(tf.float32, [None, num_of_features])\n",
    "  W = tf.get_variable('weigth', dtype=tf.float32, initializer=tf.random_uniform([num_of_features, num_of_labels], maxval=2))\n",
    "  b = tf.get_variable('bais', dtype=tf.float32, initializer=tf.random_uniform([num_of_labels], maxval=2)) #tf.Variable([5], dtype=tf.float32)\n",
    "  y = tf.matmul(X, W) + b\n",
    "  y_ = tf.placeholder(tf.float32, [None, num_of_labels])\n",
    "\n",
    "  # Define loss function\n",
    "  cross_entropy = tf.reduce_mean(\n",
    "    tf.nn.softmax_cross_entropy_with_logits(labels=y_, logits=y))\n",
    "  train_step = tf.train.GradientDescentOptimizer(learning_rate).minimize(cross_entropy)\n",
    "  \n",
    "  with tf.Session() as sess:\n",
    "      tf.global_variables_initializer().run()\n",
    "      # Retrieve a single traning sample:\n",
    "      sess.run(iterator.initializer, feed_dict={features_placeholder: features, labels_placeholder: labels})\n",
    "\n",
    "      costs = []\n",
    "      # Train\n",
    "      for i in range(500): \n",
    "          next_element = iterator.get_next()\n",
    "          batch_xs, batch_ys = sess.run(next_element)   \n",
    "          cost, t_step = sess.run([cross_entropy, train_step], feed_dict={X: batch_xs, y_: batch_ys})\n",
    "          if i%50==0:\n",
    "            print('training ' + str(i) + ' times, cost is: ' + str(cost))  \n",
    "            costs.append(cost)\n",
    "\n",
    "      # Test trained model\n",
    "      correct_prediction = tf.equal(tf.argmax(y, 1), tf.argmax(y_, 1))\n",
    "      accuracy = tf.reduce_mean(tf.cast(correct_prediction, tf.float32))\n",
    "      print('training accuracy: ' + str(sess.run(accuracy, feed_dict={X: features,\n",
    "                                          y_: labels})))\n",
    "\n",
    "      print('Saving parameters to ' + MODEL_PARAMETERS)\n",
    "      np.save(MODEL_PARAMETERS, {\"W\": W.eval(), \"b\": b.eval()})\n",
    "\n",
    "    \n",
    "  return costs"
   ]
  },
  {
   "cell_type": "code",
   "execution_count": 35,
   "metadata": {},
   "outputs": [
    {
     "name": "stdout",
     "output_type": "stream",
     "text": [
      "number of test methods: 5\n",
      "number of training samples: 10\n",
      "number of features: 11\n",
      "training 0 times, cost is: 0.904312\n",
      "training 50 times, cost is: 0.0539745\n",
      "training 100 times, cost is: 0.0262912\n",
      "training 150 times, cost is: 0.0175304\n",
      "training 200 times, cost is: 0.013205\n",
      "training 250 times, cost is: 0.0106178\n",
      "training 300 times, cost is: 0.00889245\n",
      "training 350 times, cost is: 0.00765799\n",
      "training 400 times, cost is: 0.00672989\n",
      "training 450 times, cost is: 0.00600622\n",
      "training accuracy: 1.0\n",
      "Saving parameters to model_parameters.npy\n"
     ]
    }
   ],
   "source": [
    "costs = []\n",
    "with tf.variable_scope(name_or_scope='', reuse=tf.AUTO_REUSE):\n",
    "     costs = train_LR_model(0.5)   "
   ]
  },
  {
   "cell_type": "code",
   "execution_count": 36,
   "metadata": {},
   "outputs": [
    {
     "name": "stdout",
     "output_type": "stream",
     "text": [
      "[0.90431231, 0.053974494, 0.026291151, 0.017530367, 0.013205043, 0.010617824, 0.0088924533, 0.0076579889, 0.0067298934, 0.0060062166]\n"
     ]
    },
    {
     "data": {
      "image/png": "[encoded data removed]",
      "text/plain": [
       "<matplotlib.figure.Figure at 0x202d6eb8>"
      ]
     },
     "metadata": {},
     "output_type": "display_data"
    }
   ],
   "source": [
    "print(costs)\n",
    "plt.xlim([0, 500])\n",
    "plt.ylim([0, 3])\n",
    "plt.plot(np.linspace(0, 500, num=len(costs)), costs)\n",
    "plt.show()"
   ]
  },
  {
   "cell_type": "code",
   "execution_count": 37,
   "metadata": {},
   "outputs": [],
   "source": [
    "def predict(samples, W, b):\n",
    "    y = tf.matmul(samples, W) + b\n",
    "    indexs = tf.argmax(y, axis=1)\n",
    "    with tf.Session() as sess:\n",
    "        return sess.run(indexs)\n",
    "    "
   ]
  },
  {
   "cell_type": "code",
   "execution_count": 38,
   "metadata": {},
   "outputs": [],
   "source": [
    "def loadModelParameters():\n",
    "    params = np.load(MODEL_PARAMETERS).item()\n",
    "    W = tf.constant(params.get('W'))\n",
    "    b = tf.constant(params.get('b'))\n",
    "    return (W, b)"
   ]
  },
  {
   "cell_type": "code",
   "execution_count": 39,
   "metadata": {},
   "outputs": [],
   "source": [
    "def loadTestSample():\n",
    "     # Load testing examples\n",
    "    testdata = np.load('testing_features.npy').item().get('features')\n",
    "    return tf.constant(testdata, dtype=tf.float32)"
   ]
  },
  {
   "cell_type": "code",
   "execution_count": 31,
   "metadata": {},
   "outputs": [
    {
     "name": "stdout",
     "output_type": "stream",
     "text": [
      "test step#0: ingestTitle\n",
      "test step#1: enableRuleset\n",
      "test step#2: ingestTitle\n"
     ]
    }
   ],
   "source": [
    "testdata = loadTestSample()\n",
    "W, b = loadModelParameters() \n",
    "indexs = predict(testdata, W, b)\n",
    "for i in range(0, len(indexs)):\n",
    "    print('test step#' + str(i) + \": \" + getTestMethod(indexs[i]))"
   ]
  },
  {
   "cell_type": "markdown",
   "metadata": {},
   "source": []
  }
 ],
 "metadata": {
  "kernelspec": {
   "display_name": "Python 3",
   "language": "python",
   "name": "python3"
  },
  "language_info": {
   "codemirror_mode": {
    "name": "ipython",
    "version": 3
   },
   "file_extension": ".py",
   "mimetype": "text/x-python",
   "name": "python",
   "nbconvert_exporter": "python",
   "pygments_lexer": "ipython3",
   "version": "3.6.2"
  }
 },
 "nbformat": 4,
 "nbformat_minor": 2
}
